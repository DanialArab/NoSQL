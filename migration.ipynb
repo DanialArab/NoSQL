{
 "cells": [
  {
   "cell_type": "code",
   "execution_count": 1,
   "id": "a7a41b61",
   "metadata": {},
   "outputs": [],
   "source": [
    "import pymongo"
   ]
  },
  {
   "cell_type": "code",
   "execution_count": 2,
   "id": "e0cbf8ca",
   "metadata": {},
   "outputs": [],
   "source": [
    "import os\n",
    "import pymysql\n",
    "import pandas as pd\n",
    "password = os.environ.get('MYSQL_PASSWORD') "
   ]
  },
  {
   "cell_type": "code",
   "execution_count": 3,
   "id": "f01d40de",
   "metadata": {},
   "outputs": [
    {
     "name": "stdout",
     "output_type": "stream",
     "text": [
      "Connection to the database was successful!\n"
     ]
    }
   ],
   "source": [
    "try:\n",
    "    con = pymysql.connect(\n",
    "                            host='localhost',\n",
    "                            user='root',\n",
    "                            password=password,\n",
    "                            charset='utf8mb4'\n",
    "                            )\n",
    "    print(\"Connection to the database was successful!\")\n",
    "except pymysql.Error as e:\n",
    "    print(f\"An error occurred while connecting to the database: {e}\")"
   ]
  },
  {
   "cell_type": "code",
   "execution_count": 4,
   "id": "7a3e2e6f",
   "metadata": {},
   "outputs": [],
   "source": [
    "# Some useful functions: \n",
    "\n",
    "# craete a MySQL database \n",
    "def database_creator(database_name):\n",
    "    \n",
    "    conn = connector(database=None)\n",
    "    \n",
    "    # Create a cursor object\n",
    "    cursor = conn.cursor()\n",
    "\n",
    "    cursor.execute(f\"DROP DATABASE IF EXISTS {database_name}\")\n",
    "    \n",
    "    # Execute the CREATE DATABASE SQL command\n",
    "    cursor.execute(f\"CREATE DATABASE {database_name}\")\n",
    "\n",
    "    # Commit the transaction\n",
    "    conn.commit()\n",
    "\n",
    "    # Close the connection\n",
    "    conn.close()\n",
    "\n",
    "# Connect to MySQL\n",
    "def connector (database, password=password, host='localhost', \n",
    "               user='root', charset='utf8mb4',):\n",
    "    \n",
    "    conn = pymysql.connect(\n",
    "                        host=host,\n",
    "                        user=user,\n",
    "                        password=password,\n",
    "                        charset=charset, \n",
    "                        database=database)\n",
    "    \n",
    "    return conn\n",
    "\n",
    "def table_names (database):\n",
    "    \n",
    "    con = connector(database)\n",
    "    \n",
    "    query = \"SELECT table_name FROM information_schema.tables WHERE table_schema='{}';\".format(database)\n",
    "\n",
    "    # Execute the query and store the results in a Pandas DataFrame\n",
    "    tables = pd.read_sql_query(query, con)\n",
    "\n",
    "    # Print the list of tables\n",
    "    return tables\n",
    "\n",
    "def delete_database(database):\n",
    "    conn = connector(database=None)\n",
    "    cursor = conn.cursor()\n",
    "\n",
    "    # Replace <database_name> with the name of the database you want to delete\n",
    "    database_name = database\n",
    "\n",
    "    # Execute the DROP DATABASE SQL command\n",
    "    cursor.execute(f\"DROP DATABASE {database_name}\")\n",
    "\n",
    "    # Commit the transaction\n",
    "    conn.commit()\n",
    "\n",
    "    # Close the connection\n",
    "    conn.close()\n",
    "    \n",
    "def database_names():\n",
    "\n",
    "    # Create a cursor object\n",
    "    cursor = con.cursor()\n",
    "\n",
    "    # Execute the SHOW DATABASES command\n",
    "    cursor.execute('SHOW DATABASES')\n",
    "\n",
    "    # Fetch all the results as a list of tuples\n",
    "    results = cursor.fetchall()\n",
    "\n",
    "    # Print the names of all databases in the MySQL server\n",
    "    for row in results:\n",
    "        print(row[0])\n",
    "\n",
    "    # Close the cursor and connection\n",
    "    cursor.close()\n",
    "    con.close()"
   ]
  },
  {
   "cell_type": "code",
   "execution_count": 6,
   "id": "37bd80ef",
   "metadata": {},
   "outputs": [],
   "source": [
    "# Connect to MongoDB\n",
    "mongo_client = pymongo.MongoClient(\"mongodb://localhost:27017/\")\n",
    "mongo_db = mongo_client[\"customers\"]\n",
    "mongo_collection = mongo_db[\"information\"]"
   ]
  },
  {
   "cell_type": "code",
   "execution_count": 12,
   "id": "cb7d0902",
   "metadata": {},
   "outputs": [],
   "source": [
    "database_creator ('customers')"
   ]
  },
  {
   "cell_type": "code",
   "execution_count": 19,
   "id": "dfcedd47",
   "metadata": {},
   "outputs": [],
   "source": [
    "con = connector('customers')"
   ]
  },
  {
   "cell_type": "code",
   "execution_count": 22,
   "id": "fc55faf3",
   "metadata": {},
   "outputs": [
    {
     "data": {
      "text/plain": [
       "0"
      ]
     },
     "execution_count": 22,
     "metadata": {},
     "output_type": "execute_result"
    }
   ],
   "source": [
    "# Define MySQL table schema\n",
    "mysql_cursor = con.cursor()\n",
    "\n",
    "mysql_cursor.execute('''\n",
    "    CREATE TABLE IF NOT EXISTS information (\n",
    "        id INT AUTO_INCREMENT PRIMARY KEY,\n",
    "        first_name VARCHAR(255),\n",
    "        last_name VARCHAR(255),\n",
    "        country_of_residence VARCHAR(255),\n",
    "        date_of_birth DATE,\n",
    "        email VARCHAR(255),\n",
    "        state_of_residence VARCHAR(255),\n",
    "        postal_code VARCHAR(255)\n",
    "    )\n",
    "''')\n"
   ]
  },
  {
   "cell_type": "code",
   "execution_count": 23,
   "id": "049cb0a2",
   "metadata": {},
   "outputs": [],
   "source": [
    "# Extract data from MongoDB and insert into MySQL table\n",
    "for document in mongo_db[\"information\"].find():\n",
    "    user_data = (\n",
    "        document.get(\"id\"),\n",
    "        document.get(\"first_name\"),\n",
    "        document.get(\"last_name\"), \n",
    "        document.get(\"country_of_residence\"),\n",
    "        document.get(\"date_of_birth\"),\n",
    "        document.get(\"email\"),\n",
    "        document.get(\"state_of_residence\"),\n",
    "        document.get(\"postal_code\")\n",
    "    )\n",
    "    mysql_cursor.execute('''\n",
    "        INSERT INTO information (id, first_name, last_name, country_of_residence, date_of_birth, email, state_of_residence, postal_code)\n",
    "        VALUES (%s, %s, %s, %s, %s, %s, %s, %s)\n",
    "    ''', user_data)\n"
   ]
  },
  {
   "cell_type": "code",
   "execution_count": 16,
   "id": "c0335b08",
   "metadata": {},
   "outputs": [
    {
     "name": "stdout",
     "output_type": "stream",
     "text": [
      "customers\n",
      "information_schema\n",
      "mysql\n",
      "performance_schema\n",
      "sakila\n",
      "sql_hr\n",
      "sql_inventory\n",
      "sql_invoicing\n",
      "sql_store\n",
      "sys\n",
      "world\n"
     ]
    }
   ],
   "source": [
    "database_names()"
   ]
  },
  {
   "cell_type": "code",
   "execution_count": null,
   "id": "bff14f45",
   "metadata": {},
   "outputs": [],
   "source": [
    "delete_database('customers')"
   ]
  },
  {
   "cell_type": "code",
   "execution_count": 25,
   "id": "3c3f7ac0",
   "metadata": {},
   "outputs": [
    {
     "name": "stderr",
     "output_type": "stream",
     "text": [
      "C:\\Users\\dania\\AppData\\Local\\Temp\\ipykernel_26216\\30147618.py:8: UserWarning: pandas only supports SQLAlchemy connectable (engine/connection) or database string URI or sqlite3 DBAPI2 connection. Other DBAPI2 objects are not tested. Please consider using SQLAlchemy.\n",
      "  tables = pd.read_sql_query(query, con)\n"
     ]
    },
    {
     "data": {
      "text/html": [
       "<div>\n",
       "<style scoped>\n",
       "    .dataframe tbody tr th:only-of-type {\n",
       "        vertical-align: middle;\n",
       "    }\n",
       "\n",
       "    .dataframe tbody tr th {\n",
       "        vertical-align: top;\n",
       "    }\n",
       "\n",
       "    .dataframe thead th {\n",
       "        text-align: right;\n",
       "    }\n",
       "</style>\n",
       "<table border=\"1\" class=\"dataframe\">\n",
       "  <thead>\n",
       "    <tr style=\"text-align: right;\">\n",
       "      <th></th>\n",
       "      <th>TABLE_NAME</th>\n",
       "    </tr>\n",
       "  </thead>\n",
       "  <tbody>\n",
       "    <tr>\n",
       "      <th>0</th>\n",
       "      <td>information</td>\n",
       "    </tr>\n",
       "  </tbody>\n",
       "</table>\n",
       "</div>"
      ],
      "text/plain": [
       "    TABLE_NAME\n",
       "0  information"
      ]
     },
     "execution_count": 25,
     "metadata": {},
     "output_type": "execute_result"
    }
   ],
   "source": [
    "table_names('customers')"
   ]
  },
  {
   "cell_type": "code",
   "execution_count": 24,
   "id": "ebbc0915",
   "metadata": {},
   "outputs": [
    {
     "name": "stderr",
     "output_type": "stream",
     "text": [
      "C:\\Users\\dania\\AppData\\Local\\Temp\\ipykernel_26216\\3924582339.py:1: UserWarning: pandas only supports SQLAlchemy connectable (engine/connection) or database string URI or sqlite3 DBAPI2 connection. Other DBAPI2 objects are not tested. Please consider using SQLAlchemy.\n",
      "  pd.read_sql(\"\"\"\n"
     ]
    },
    {
     "data": {
      "text/html": [
       "<div>\n",
       "<style scoped>\n",
       "    .dataframe tbody tr th:only-of-type {\n",
       "        vertical-align: middle;\n",
       "    }\n",
       "\n",
       "    .dataframe tbody tr th {\n",
       "        vertical-align: top;\n",
       "    }\n",
       "\n",
       "    .dataframe thead th {\n",
       "        text-align: right;\n",
       "    }\n",
       "</style>\n",
       "<table border=\"1\" class=\"dataframe\">\n",
       "  <thead>\n",
       "    <tr style=\"text-align: right;\">\n",
       "      <th></th>\n",
       "      <th>id</th>\n",
       "      <th>first_name</th>\n",
       "      <th>last_name</th>\n",
       "      <th>country_of_residence</th>\n",
       "      <th>date_of_birth</th>\n",
       "      <th>email</th>\n",
       "      <th>state_of_residence</th>\n",
       "      <th>postal_code</th>\n",
       "    </tr>\n",
       "  </thead>\n",
       "  <tbody>\n",
       "    <tr>\n",
       "      <th>0</th>\n",
       "      <td>1</td>\n",
       "      <td>John</td>\n",
       "      <td>Smith</td>\n",
       "      <td>USA</td>\n",
       "      <td>1980-01-01</td>\n",
       "      <td>john.smith@gmail.com</td>\n",
       "      <td>CA</td>\n",
       "      <td>AABBCC</td>\n",
       "    </tr>\n",
       "    <tr>\n",
       "      <th>1</th>\n",
       "      <td>2</td>\n",
       "      <td>Jim</td>\n",
       "      <td>Carter</td>\n",
       "      <td>Canada</td>\n",
       "      <td>1970-01-01</td>\n",
       "      <td>jimi.carter@yahoo.com</td>\n",
       "      <td>AB</td>\n",
       "      <td>ZZYYWW</td>\n",
       "    </tr>\n",
       "    <tr>\n",
       "      <th>2</th>\n",
       "      <td>3</td>\n",
       "      <td>Sarah</td>\n",
       "      <td>Elton</td>\n",
       "      <td>USA</td>\n",
       "      <td>1940-01-01</td>\n",
       "      <td>selton@gmail.com</td>\n",
       "      <td>USA</td>\n",
       "      <td>FFGGHH</td>\n",
       "    </tr>\n",
       "    <tr>\n",
       "      <th>3</th>\n",
       "      <td>4</td>\n",
       "      <td>Kim</td>\n",
       "      <td>Herford</td>\n",
       "      <td>USA</td>\n",
       "      <td>1987-01-01</td>\n",
       "      <td>kim.h@gmail.com</td>\n",
       "      <td>TX</td>\n",
       "      <td>KKJJHH</td>\n",
       "    </tr>\n",
       "  </tbody>\n",
       "</table>\n",
       "</div>"
      ],
      "text/plain": [
       "   id first_name last_name country_of_residence date_of_birth  \\\n",
       "0   1       John     Smith                  USA    1980-01-01   \n",
       "1   2        Jim    Carter               Canada    1970-01-01   \n",
       "2   3      Sarah     Elton                  USA    1940-01-01   \n",
       "3   4        Kim   Herford                  USA    1987-01-01   \n",
       "\n",
       "                   email state_of_residence postal_code  \n",
       "0   john.smith@gmail.com                 CA      AABBCC  \n",
       "1  jimi.carter@yahoo.com                 AB      ZZYYWW  \n",
       "2       selton@gmail.com                USA      FFGGHH  \n",
       "3        kim.h@gmail.com                 TX      KKJJHH  "
      ]
     },
     "execution_count": 24,
     "metadata": {},
     "output_type": "execute_result"
    }
   ],
   "source": [
    "pd.read_sql(\"\"\"\n",
    "SELECT *\n",
    "FROM information \"\"\", con)"
   ]
  },
  {
   "cell_type": "code",
   "execution_count": null,
   "id": "9f61dfbe",
   "metadata": {},
   "outputs": [],
   "source": []
  }
 ],
 "metadata": {
  "kernelspec": {
   "display_name": "Python 3 (ipykernel)",
   "language": "python",
   "name": "python3"
  },
  "language_info": {
   "codemirror_mode": {
    "name": "ipython",
    "version": 3
   },
   "file_extension": ".py",
   "mimetype": "text/x-python",
   "name": "python",
   "nbconvert_exporter": "python",
   "pygments_lexer": "ipython3",
   "version": "3.8.8"
  },
  "varInspector": {
   "cols": {
    "lenName": 16,
    "lenType": 16,
    "lenVar": 40
   },
   "kernels_config": {
    "python": {
     "delete_cmd_postfix": "",
     "delete_cmd_prefix": "del ",
     "library": "var_list.py",
     "varRefreshCmd": "print(var_dic_list())"
    },
    "r": {
     "delete_cmd_postfix": ") ",
     "delete_cmd_prefix": "rm(",
     "library": "var_list.r",
     "varRefreshCmd": "cat(var_dic_list()) "
    }
   },
   "types_to_exclude": [
    "module",
    "function",
    "builtin_function_or_method",
    "instance",
    "_Feature"
   ],
   "window_display": false
  }
 },
 "nbformat": 4,
 "nbformat_minor": 5
}
